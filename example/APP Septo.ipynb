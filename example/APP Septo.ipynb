{
 "cells": [
  {
   "cell_type": "markdown",
   "id": "b50cd883",
   "metadata": {},
   "source": [
    "# Jupyter App"
   ]
  },
  {
   "cell_type": "code",
   "execution_count": 1,
   "id": "e05e4afa",
   "metadata": {},
   "outputs": [],
   "source": [
    "import numpy as np\n",
    "import matplotlib.pyplot as plt\n",
    "\n",
    "from epymix.rain import rain as _rain \n",
    "from epymix.inoculum import inoculum \n",
    "from epymix.configuration import configuration\n",
    "from epymix.SEIR import SEIR \n",
    "from epymix.dispersion_gradient import dispersion_kernel_rust, dispersion_kernel_septo\n",
    "from epymix.growth_companion import growth_pois\n"
   ]
  },
  {
   "cell_type": "code",
   "execution_count": 2,
   "id": "51d30dca",
   "metadata": {},
   "outputs": [],
   "source": [
    "disease = \"septo\"\n",
    "delta_t0 = 10 # constant, the model has been parameterise such as t = 10 degree-day\n",
    "delta_t = 10 # time step\n",
    "n_season = 1 # number of season\n",
    "t = n_season*250*int(delta_t0/delta_t) # length of the experiment\n",
    "season = 250*int(delta_t0/delta_t)  # 2500 dd %% length of a cropping season\n",
    "delta_companion = 0 # growth start lag of the companion crop (dd), negative: companion before, positive: companion after but for i<delta Poi=0\n"
   ]
  },
  {
   "cell_type": "code",
   "execution_count": 3,
   "id": "adaf35d4",
   "metadata": {},
   "outputs": [],
   "source": [
    "Lr=Lx=Ly=1 \n",
    "scenario_rot='uniform'\n",
    "wheat_fraction=0.5\n",
    "\n"
   ]
  },
  {
   "cell_type": "code",
   "execution_count": 4,
   "id": "6006cef7",
   "metadata": {},
   "outputs": [],
   "source": [
    "mu_wheat = 0.03 * delta_t / delta_t0  # 0.03 %% mortality rate of S and E tissues (LAI/10dd)\n",
    "nu = 0.03 * delta_t / delta_t0  # nu = mu %% mortality of I infectious tissues (LAI/10dd)\n",
    "mu_companion = 0.03 * delta_t / delta_t0  # 0.03 %% mortality rate of the companion species (LAI/10dd)\n",
    "beta_wheat = 0.09 * delta_t / delta_t0  # 0.09 %% wheat growth parameter (LAI/10dd)\n",
    "beta_companion = 0.09 * delta_t / delta_t0  # beta_companion = beta_wheat %% growth parameter of the companion crop (LAI/10dd)\n",
    "end_wheat = 140 * int(delta_t0 / delta_t)  # 1400 dj %% date of wheat growth end\n",
    "end_companion = 140 * int(delta_t0 / delta_t)  # end_companion = end_wheat %% date of growth end for the companion crop\n",
    "LAI_K = 6  # 6 %% carrying capacity (Maximum canopy LAI)\n",
    "ber_wheat = 1  # 1 # wheat spore interception coefficient (the Beer-Lambert law)\n",
    "ber_companion = 1  # 1 # spore interception coefficient of the companion species (the Beer-Lambert law)\n",
    "h_wheat = 1  # wheat height\n",
    "h_companion = 1  # companion height\n",
    "\n",
    "\n"
   ]
  },
  {
   "cell_type": "code",
   "execution_count": 5,
   "id": "cba50d15",
   "metadata": {},
   "outputs": [],
   "source": [
    "delta_ei = 5*int(delta_t0/delta_t)\n",
    "lambd = 20*int(delta_t0/delta_t) # 200 dd %% latent duration"
   ]
  },
  {
   "cell_type": "code",
   "execution_count": 6,
   "id": "9ce65342",
   "metadata": {},
   "outputs": [],
   "source": [
    "s0 = 0.0001 # 0.0001 %% lesion size (µm²)\n",
    "pi_inf0 = 0.0002 # 0.0002 %% spore probability infection\n",
    "rho = 0.002*delta_t/delta_t0  # 0.01 %% spore mortality in P reservoir\n",
    "psi = 0.3  # 0.3 %% pycnide emptying rate by rain (only for septoriose)\n",
    "gamma = 0  # 0 %% virulence parameter\n",
    "theta = 0.15  # 0.015 %% spore intercropping survival rate\n",
    "sigma = 45000000  # 50000000 %% spore production rate (septo: pycnidiospores by rain)\n",
    "sigma_asco = 0.2 * sigma # 0.2*sigma %% (parameter for septoriose only, ascospores by wind)\n",
    "inf_begin = 0*int(delta_t0/delta_t)  #  1000 dd %% date of epidemic start (generally between 80 et 130 dd for rust)\n"
   ]
  },
  {
   "cell_type": "code",
   "execution_count": 7,
   "id": "bceb8777",
   "metadata": {},
   "outputs": [],
   "source": [
    "years = np.arange(2000,2000+n_season,1) #1995: bad; 1997: medium, 2000: good\n",
    "years = years.tolist()\n",
    "rain = _rain(years, delta_t)"
   ]
  },
  {
   "cell_type": "code",
   "execution_count": 8,
   "id": "cdb4ac11",
   "metadata": {},
   "outputs": [],
   "source": [
    "scenario_ino = 'initial_inoculum' # scenario_ino: which scenario of initial inoculum (chose: central_focus, initial_inoculum, annual_cloud)\n",
    "frac_inf = 1 # frac_inf: fraction of patches within the field inoculated\n",
    "inoc_init_abs = 20000000 # inoc_init_abs: initial inoculum intensity\n",
    "ng_ext0_abs = int(20000*delta_t/delta_t0) # ng_ext0_abs: external cloud intensity\n",
    "inoc_init, ng_ext0 = inoculum(scenario_ino, Lx, Ly, frac_inf, inoc_init_abs, ng_ext0_abs)\n"
   ]
  },
  {
   "cell_type": "code",
   "execution_count": 9,
   "id": "f2edbff3",
   "metadata": {},
   "outputs": [],
   "source": [
    "day_length = (24/(2*delta_t))*60*60\n",
    "alpha_asco = 3 # coefficient of dispersal (n m-1;Fitt et al 1987)\n",
    "radius_asco = 5\n",
    "alpha_pycnid = 0.2 * 0.0001 # coefficient of dispersal (m² s-1; Yang et al 1991)\n",
    "radius_pycnid = 5\n",
    "alpha_ure = 3\n",
    "radius_ure = 5\n",
    "\n",
    "kernel_asco, C_Disp_asco, kernel_pycnid, C_Disp_pycnid = dispersion_kernel_septo(day_length, alpha_asco, radius_asco, alpha_pycnid, radius_pycnid)\n",
    "kernel_ure, C_Disp_ure = dispersion_kernel_rust(day_length, alpha_ure, radius_ure)"
   ]
  },
  {
   "cell_type": "code",
   "execution_count": 10,
   "id": "d15983d4",
   "metadata": {},
   "outputs": [],
   "source": []
  },
  {
   "cell_type": "code",
   "execution_count": 11,
   "id": "4c8abe17",
   "metadata": {},
   "outputs": [],
   "source": []
  },
  {
   "cell_type": "code",
   "execution_count": 12,
   "id": "06fe9ca0",
   "metadata": {},
   "outputs": [],
   "source": [
    "import ipywidgets"
   ]
  },
  {
   "cell_type": "code",
   "execution_count": 21,
   "id": "1ae20eb4",
   "metadata": {},
   "outputs": [],
   "source": [
    "def app(wheat_fraction=0.5, view='LAIwheat'):\n",
    "    arrangement = configuration(Lr, Lx, Ly, scenario_rot, wheat_fraction)\n",
    "    \n",
    "    Pth_inde, Poi_inde = growth_pois(t=t, season=season, arrangement=arrangement,\n",
    "                       mu_companion=mu_companion, beta_companion=beta_companion, end_companion=end_companion, LAI_K=LAI_K)\n",
    "    \n",
    "    Nsp, Pth, Poi, Sth, Sus, Lat, Ifc, Ifv, Rem, LAI, LAI_wheat, Poo, Eps, AUDPC, Scont = SEIR(\n",
    "    t=t, \n",
    "    delta_t0=delta_t0, delta_t=delta_t, \n",
    "    season=season, delta_companion=delta_companion,\n",
    "    disease=disease, rain=rain, arrangement=arrangement, inoc_init=inoc_init, ng_ext0=ng_ext0,\n",
    "    mu_wheat=mu_wheat, nu=nu, beta_wheat=beta_wheat, #beta_companion=beta_companion, end_companion=end_companion\n",
    "    end_wheat=end_wheat, LAI_K=LAI_K, ber_wheat=ber_wheat, ber_companion=ber_companion, Pth_inde=Pth_inde, Poi_inde=Poi_inde,\n",
    "    h_wheat=h_wheat, h_companion=h_companion,\n",
    "    lambd=lambd, delta_ei=delta_ei,\n",
    "    s0=s0,pi_inf0=pi_inf0, rho=rho, psi=psi, gamma=gamma, theta=theta, sigma=sigma, sigma_asco=sigma_asco, inf_begin=inf_begin,\n",
    "    C_Disp_ure=C_Disp_ure, kernel_ure=kernel_ure, C_Disp_asco=C_Disp_asco, kernel_asco=kernel_asco,\n",
    "    C_Disp_pycnid=C_Disp_pycnid, kernel_pycnid=kernel_pycnid)\n",
    "    \n",
    "    T = [*range(0,t)]\n",
    "    Sth = np.mean(Sth, axis=(1,2))\n",
    "    Pth = np.mean(Pth, axis=(1,2))\n",
    "    Poi = np.mean(Poi, axis=(1,2))\n",
    "    Lat = np.mean(Lat, axis=(1,2))\n",
    "    Ifc = np.mean(Ifc, axis=(1,2))\n",
    "    Ifv = np.mean(Ifv, axis=(1,2))\n",
    "    Sus = np.mean(Sus, axis=(1,2))\n",
    "    Rem = np.mean(Rem, axis=(1,2))\n",
    "    Nsp = np.mean(Nsp, axis=(1,2))\n",
    "    LAI = np.mean(LAI, axis=(1,2))\n",
    "    LAI_wheat = np.mean(LAI_wheat, axis=(1,2))\n",
    "    Poo = np.mean(Poo, axis=(1,2))\n",
    "    AUDPC = np.mean(AUDPC, axis=(1,2))\n",
    "    Eps = np.mean(Eps, axis=(1,2))\n",
    "    Scont = np.mean(Scont, axis=(1,2))\n",
    "    \n",
    "    if view == 'LAIwheat':\n",
    "        plt.plot(T, Sth, color='black')\n",
    "    elif view=='Desease':\n",
    "        plt.plot(T, Ifc, color='red')\n",
    "    elif view=='All':\n",
    "        plt.plot(T, Sth, color='black')\n",
    "        plt.plot(T, Sus, color='green')\n",
    "        plt.plot(T, Poi, color='brown')\n",
    "        plt.plot(T, Ifv, color='red')\n",
    "        plt.plot(T, Ifc, color='red',linestyle=\"--\")\n",
    "        plt.show()\n"
   ]
  },
  {
   "cell_type": "code",
   "execution_count": 22,
   "id": "ee64ceeb",
   "metadata": {},
   "outputs": [
    {
     "data": {
      "image/png": "[encoded data removed]",
      "text/plain": [
       "<Figure size 432x288 with 1 Axes>"
      ]
     },
     "metadata": {
      "needs_background": "light"
     },
     "output_type": "display_data"
    }
   ],
   "source": [
    "app()"
   ]
  },
  {
   "cell_type": "code",
   "execution_count": 25,
   "id": "533d9549",
   "metadata": {},
   "outputs": [
    {
     "data": {
      "application/vnd.jupyter.widget-view+json": {
       "model_id": "46f8ae93f3be4e9aaf4d23975e1debfc",
       "version_major": 2,
       "version_minor": 0
      },
      "text/plain": [
       "interactive(children=(FloatSlider(value=0.5, description='wheat_fraction', max=1.0, step=0.05), Dropdown(descr…"
      ]
     },
     "metadata": {},
     "output_type": "display_data"
    },
    {
     "data": {
      "text/plain": [
       "<function __main__.app(wheat_fraction=0.5, view='LAIwheat')>"
      ]
     },
     "execution_count": 25,
     "metadata": {},
     "output_type": "execute_result"
    }
   ],
   "source": [
    "ipywidgets.interact(app, wheat_fraction=(0,1,0.05), view=['LAIwheat', 'Desease', 'All'])"
   ]
  },
  {
   "cell_type": "code",
   "execution_count": null,
   "id": "322c4401",
   "metadata": {},
   "outputs": [],
   "source": []
  },
  {
   "cell_type": "code",
   "execution_count": null,
   "id": "82efbe4d",
   "metadata": {},
   "outputs": [],
   "source": []
  }
 ],
 "metadata": {
  "kernelspec": {
   "display_name": "Python 3",
   "language": "python",
   "name": "python3"
  },
  "language_info": {
   "codemirror_mode": {
    "name": "ipython",
    "version": 3
   },
   "file_extension": ".py",
   "mimetype": "text/x-python",
   "name": "python",
   "nbconvert_exporter": "python",
   "pygments_lexer": "ipython3",
   "version": "3.9.2"
  }
 },
 "nbformat": 4,
 "nbformat_minor": 5
}
